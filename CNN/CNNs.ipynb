{
  "cells": [
    {
      "cell_type": "markdown",
      "metadata": {
        "id": "GlAn-rBF50qa"
      },
      "source": [
        "# **Reduces Dataset to 5 Classes**"
      ]
    },
    {
      "cell_type": "code",
      "execution_count": null,
      "metadata": {
        "id": "KMSvfE7rBlfd"
      },
      "outputs": [],
      "source": [
        "import os\n",
        "import shutil"
      ]
    },
    {
      "cell_type": "code",
      "source": [
        "# Mounts Google Drive\n",
        "from google.colab import drive\n",
        "drive.mount('/content/drive')"
      ],
      "metadata": {
        "id": "-f1kYaaGYD8x"
      },
      "execution_count": null,
      "outputs": []
    },
    {
      "cell_type": "code",
      "execution_count": null,
      "metadata": {
        "collapsed": true,
        "id": "KYj3dnUxpiIO"
      },
      "outputs": [],
      "source": [
        "# Unzips the dataset\n",
        "!unzip /content/drive/MyDrive/simpsons_dataset.zip\n",
        "\n",
        "# Stores a path to the dataset\n",
        "dataset_dir = '/content/simpsons_dataset'\n",
        "\n",
        "# Stores a list of all the classes in the dataset\n",
        "all_classes = os.listdir(dataset_dir)\n",
        "\n",
        "# Stores a list of 5 classes to keep\n",
        "classes_to_keep = ['homer_simpson', 'bart_simpson', 'moe_szyslak',\n",
        "                   'krusty_the_clown', 'apu_nahasapeemapetilon']\n",
        "\n",
        "# Iterates through all the classes and removes the ones not to keep\n",
        "for class_name in all_classes:\n",
        "    class_dir = os.path.join(dataset_dir, class_name)\n",
        "\n",
        "    if os.path.isdir(class_dir) and class_name not in classes_to_keep:\n",
        "        shutil.rmtree(class_dir)"
      ]
    },
    {
      "cell_type": "markdown",
      "metadata": {
        "id": "jNuKiBoV5_OY"
      },
      "source": [
        "# **Prepares Data**"
      ]
    },
    {
      "cell_type": "code",
      "execution_count": null,
      "metadata": {
        "id": "DWVBEVjKwxSG"
      },
      "outputs": [],
      "source": [
        "import tensorflow as tf"
      ]
    },
    {
      "cell_type": "code",
      "execution_count": null,
      "metadata": {
        "collapsed": true,
        "id": "EVY3XKwEt-Bn"
      },
      "outputs": [],
      "source": [
        "# Creates an ImageDataGenerator to prepare the images for training and testing\n",
        "datagen = tf.keras.preprocessing.image.ImageDataGenerator(\n",
        "    rescale = 1./255,         # Normalizes pixel values to [0, 1]\n",
        "    validation_split = 0.2    # Reserves 20% of images for testing\n",
        ")\n",
        "\n",
        "# Uses the ImageDataGenerator to load and prepare images for training\n",
        "train_generator = datagen.flow_from_directory(\n",
        "    dataset_dir,                 # Path to dataset\n",
        "    target_size = (224, 224),    # Resizes images to 224x224\n",
        "    class_mode = 'categorical',  # For multi-class classification\n",
        "    subset = 'training',         # Use for training\n",
        "    batch_size = 64              # Sets batch size to 64\n",
        ")\n",
        "\n",
        "# Uses the ImageDataGenerator to load and prepare images for testing\n",
        "test_generator = datagen.flow_from_directory(\n",
        "    dataset_dir,                 # Path to dataset\n",
        "    target_size = (224, 224),    # Resizes images to 224x224\n",
        "    class_mode = 'categorical',  # For multi-class classification\n",
        "    subset = 'validation'        # Use for testing\n",
        ")"
      ]
    },
    {
      "cell_type": "markdown",
      "metadata": {
        "id": "DMbsxk1Y6JEv"
      },
      "source": [
        "#**Builds, Trains & Tests your CNN**"
      ]
    },
    {
      "cell_type": "code",
      "execution_count": null,
      "metadata": {
        "id": "PWWVLSnh1CUJ"
      },
      "outputs": [],
      "source": [
        "# Builds the model\n",
        "CNN_model = tf.keras.Sequential()\n",
        "CNN_model.add(tf.keras.layers.Conv2D(32, (3, 3), input_shape=(224, 224, 3), activation='relu', padding='same'))\n",
        "CNN_model.add(tf.keras.layers.Conv2D(32, (3, 3), activation='relu', padding='same'))\n",
        "CNN_model.add(tf.keras.layers.MaxPooling2D())\n",
        "CNN_model.add(tf.keras.layers.Conv2D(64, (3, 3), activation='relu', padding='same'))\n",
        "CNN_model.add(tf.keras.layers.Conv2D(64, (3, 3), activation='relu', padding='same'))\n",
        "CNN_model.add(tf.keras.layers.MaxPooling2D())\n",
        "CNN_model.add(tf.keras.layers.Flatten())\n",
        "CNN_model.add(tf.keras.layers.Dense(512, activation='relu'))\n",
        "CNN_model.add(tf.keras.layers.Dense(5, activation='softmax'))\n",
        "\n",
        "# Compiles the model\n",
        "sgd = tf.keras.optimizers.SGD(0.01, momentum=0.9, decay=0.01/20, nesterov=False)\n",
        "CNN_model.compile(loss='categorical_crossentropy', optimizer=sgd, metrics=['accuracy'])\n",
        "\n",
        "# Trains the model\n",
        "train_history = CNN_model.fit(train_generator, epochs=20)\n",
        "\n",
        "# Evaluates the model on the test data\n",
        "loss, accuracy = CNN_model.evaluate(test_generator)\n",
        "print(f'Test model loss: {round(loss,4)}')\n",
        "print(f'Test model accuracy: {round(100*accuracy,2)}%')"
      ]
    },
    {
      "cell_type": "markdown",
      "metadata": {
        "id": "YuvpZkzP6j12"
      },
      "source": [
        "#**Plots Parameters Table**"
      ]
    },
    {
      "cell_type": "code",
      "execution_count": null,
      "metadata": {
        "id": "Gr2geoBKzglb"
      },
      "outputs": [],
      "source": [
        "# Plots a parameters table\n",
        "CNN_model.summary()"
      ]
    },
    {
      "cell_type": "markdown",
      "metadata": {
        "id": "GdvFdzW7BJ9t"
      },
      "source": [
        "#**Applies the Model**"
      ]
    },
    {
      "cell_type": "code",
      "execution_count": null,
      "metadata": {
        "id": "SoUBB6NWPXg2"
      },
      "outputs": [],
      "source": [
        "import numpy as np\n",
        "import matplotlib.pyplot as plt"
      ]
    },
    {
      "cell_type": "code",
      "execution_count": null,
      "metadata": {
        "id": "Q77VFQwwRCQd"
      },
      "outputs": [],
      "source": [
        "# Creates an ImageDataGenerator to prepare the images for the model\n",
        "datagen = tf.keras.preprocessing.image.ImageDataGenerator(rescale=1./255)\n",
        "\n",
        "# Uses the ImageDataGenerator to load and prepare images for the model\n",
        "prediction_data_generator = datagen.flow_from_directory(\n",
        "    '/content/simpsons_dataset',  # Path to dataset\n",
        "    target_size=(224, 224),       # Resizes images to 224x224\n",
        "    class_mode=None,              # For making predictions\n",
        "    shuffle=True                  # Shuffles images\n",
        ")\n",
        "\n",
        "# Maps class indexes to class labels\n",
        "class_indices = prediction_data_generator.class_indices\n",
        "class_labels = {v: k for k, v in class_indices.items()}"
      ]
    },
    {
      "cell_type": "code",
      "execution_count": null,
      "metadata": {
        "id": "nIWu-S1B94yj"
      },
      "outputs": [],
      "source": [
        "# Creates a 20x10 figure with 4 rows and 8 columns\n",
        "fig, axes = plt.subplots(4, 8, figsize=(20, 10))\n",
        "axes = axes.flatten()\n",
        "\n",
        "# Loops through 32 images\n",
        "for i in range(32):\n",
        "    # Gets the next image\n",
        "    image = next(prediction_data_generator)\n",
        "\n",
        "    # Predicts the character in the image\n",
        "    prediction = CNN_model.predict(image, verbose = 0)\n",
        "    predicted_class = np.argmax(prediction, axis=1)[0]\n",
        "\n",
        "    # Plots the image and its predicted character within the figure\n",
        "    ax = axes[i]\n",
        "    ax.imshow(image[0])\n",
        "    ax.set_title(f'{class_labels[predicted_class]}')\n",
        "    ax.axis('off')\n",
        "\n",
        "# Displays the figure\n",
        "plt.tight_layout()\n",
        "plt.show()"
      ]
    }
  ],
  "metadata": {
    "accelerator": "GPU",
    "colab": {
      "collapsed_sections": [
        "GlAn-rBF50qa",
        "jNuKiBoV5_OY",
        "DMbsxk1Y6JEv",
        "YuvpZkzP6j12",
        "GdvFdzW7BJ9t"
      ],
      "gpuType": "T4",
      "provenance": []
    },
    "kernelspec": {
      "display_name": "Python 3",
      "name": "python3"
    },
    "language_info": {
      "name": "python"
    }
  },
  "nbformat": 4,
  "nbformat_minor": 0
}