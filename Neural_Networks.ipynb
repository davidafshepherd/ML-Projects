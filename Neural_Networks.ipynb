{
  "nbformat": 4,
  "nbformat_minor": 0,
  "metadata": {
    "colab": {
      "provenance": []
    },
    "kernelspec": {
      "name": "python3",
      "display_name": "Python 3"
    },
    "language_info": {
      "name": "python"
    }
  },
  "cells": [
    {
      "cell_type": "markdown",
      "source": [
        "#**Builds, Trains & Tests your Neural Network**"
      ],
      "metadata": {
        "id": "trj9VYI0LcS3"
      }
    },
    {
      "cell_type": "code",
      "execution_count": null,
      "metadata": {
        "id": "5GWmT9r1LW8z"
      },
      "outputs": [],
      "source": [
        "import numpy as np\n",
        "import pandas as pd\n",
        "import tensorflow as tf\n",
        "from sklearn.model_selection import train_test_split"
      ]
    },
    {
      "cell_type": "code",
      "source": [
        "# Loads data for training and testing\n",
        "data = pd.read_csv('train.csv')\n",
        "X_data = data.iloc[:, [2, 4, 6, 7]]\n",
        "y_data = data.iloc[:, 1]\n",
        "\n",
        "# Prepares the data\n",
        "X_data['Sex'] = X_data['Sex'].map({'male': 0, 'female': 1})\n",
        "\n",
        "# Splits the data into a training set and a testing set\n",
        "X_train_data, X_test_data, y_train_data, y_test_data = train_test_split(X_data, y_data, test_size=0.2, random_state=42)\n",
        "\n",
        "# Builds the model\n",
        "NN_model = tf.keras.Sequential()\n",
        "NN_model.add(tf.keras.layers.Dense(8, activation='relu', input_shape=(4,)))\n",
        "NN_model.add(tf.keras.layers.Dense(4, activation='relu'))\n",
        "NN_model.add(tf.keras.layers.Dense(1, activation='sigmoid'))\n",
        "\n",
        "# Compiles the model\n",
        "NN_model.compile(optimizer='adam', loss='binary_crossentropy', metrics=['accuracy'])\n",
        "\n",
        "# Trains the model\n",
        "train_history = NN_model.fit(X_train_data, y_train_data, epochs=100, batch_size=32)\n",
        "\n",
        "# Evaluates the model on the test data\n",
        "loss, accuracy = NN_model.evaluate(X_test_data, y_test_data)\n",
        "print(f'Test model loss: {round(loss,4)}')\n",
        "print(f'Test model accuracy: {round(100*accuracy,2)}%')"
      ],
      "metadata": {
        "id": "xt3U4lvFLdh9"
      },
      "execution_count": null,
      "outputs": []
    },
    {
      "cell_type": "markdown",
      "source": [
        "#**Plots Loss & Accuracy Graph**"
      ],
      "metadata": {
        "id": "gW_8vt1JLhye"
      }
    },
    {
      "cell_type": "code",
      "source": [
        "import matplotlib.pyplot as plt"
      ],
      "metadata": {
        "id": "4MPoD8fMLlFl"
      },
      "execution_count": null,
      "outputs": []
    },
    {
      "cell_type": "code",
      "source": [
        "# Plots a loss and accuracy against epoch graph\n",
        "def plot_graph(history):\n",
        "  plt.plot(history.history['loss'], label='loss')\n",
        "  plt.plot(history.history['accuracy'], label='accuracy')\n",
        "  plt.xlabel('Epoch')\n",
        "  plt.legend()\n",
        "  plt.grid(True)\n",
        "  plt.show"
      ],
      "metadata": {
        "id": "sQNoynA0Lnhn"
      },
      "execution_count": null,
      "outputs": []
    },
    {
      "cell_type": "code",
      "source": [
        "# Plots the graph using the model's training history\n",
        "plot_graph(train_history)"
      ],
      "metadata": {
        "id": "PCvT7WDDLpkt"
      },
      "execution_count": null,
      "outputs": []
    },
    {
      "cell_type": "markdown",
      "source": [
        "#**Applies the Model**"
      ],
      "metadata": {
        "id": "YhdZf-mxLr1s"
      }
    },
    {
      "cell_type": "code",
      "source": [
        "# Loads data for predictions\n",
        "prediction_data = pd.read_csv('test.csv')\n",
        "X_prediction_data = prediction_data.iloc[:, [1, 3, 5, 6]]\n",
        "\n",
        "# Prepares the data\n",
        "X_prediction_data['Sex'] = X_prediction_data['Sex'].map({'male': 0, 'female': 1})\n",
        "\n",
        "# Calculates the predictions\n",
        "predictions = NN_model.predict(X_prediction_data, verbose = 0)\n",
        "rounded_predictions = np.round(predictions).astype(int)\n",
        "text_predictions = np.where(rounded_predictions == 1, 'survived', 'died')\n",
        "\n",
        "# Displays the predictions in a readable format\n",
        "print('Predictions:')\n",
        "for i, pred in enumerate(text_predictions):\n",
        "    name = prediction_data.iloc[i,2].split(',')\n",
        "    firstname = name[1].lstrip()\n",
        "    surname = name[0]\n",
        "    output = f'{firstname} {surname} {pred[0]}.'\n",
        "    print(output)"
      ],
      "metadata": {
        "id": "Yqx9bnrcLsLV"
      },
      "execution_count": null,
      "outputs": []
    }
  ]
}